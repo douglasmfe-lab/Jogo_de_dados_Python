{
  "nbformat": 4,
  "nbformat_minor": 0,
  "metadata": {
    "colab": {
      "name": "Jogo_de_dados_Python.ipynb",
      "provenance": [],
      "collapsed_sections": [],
      "authorship_tag": "ABX9TyP94/4o4QxtLK2Ae5LIXrsl"
    },
    "kernelspec": {
      "name": "python3",
      "display_name": "Python 3"
    }
  },
  "cells": [
    {
      "cell_type": "code",
      "metadata": {
        "id": "Gmcq7o0jzWFs",
        "colab_type": "code",
        "colab": {}
      },
      "source": [
        "#Jogo de dados, regras:\n",
        "# 1. Escolho o valor entre 1 e 6.\n",
        "# 2. Escolho quanto quero apostar - Máximo 100 (Tenho no bolso).\n",
        "# 3. Jogo 2 dados\n",
        "# 4. Se 1 dado for igual ao valor escolhido eu ganho 2x do valor apostado.\n",
        "# 5. Se 2 dados forem iguais ao valor escolhido eu ganho 10x do valor apostado.\n",
        "from random import randrange\n",
        "bolso = 100\n",
        "numero_apostado = int(input(\"Qual número você aposta? \"))\n",
        "valor_aposta = float(input(\"Qual o valor da aposta? \"))\n",
        "\n",
        "if valor_aposta > bolso:\n",
        "  print(\"Você não tem esse dinheiro!\")\n",
        "else:\n",
        "  bolso = bolso - valor_aposta\n",
        "  dado1 = randrange(1,6)\n",
        "  dado2 = randrange(1,6)\n",
        "  mensagem_ganho = \"Você ganhou {} e agora esta com {}.\"\n",
        "  print(\"Sorteado os dados: '{}' e '{}' \".format(dado1,dado2))\n",
        "  resultado = 0\n",
        "  if (dado1==numero_apostado) and (dado2==numero_apostado):\n",
        "    resultado = valor_aposta * 10 \n",
        "    bolso = resultado + bolso\n",
        "    print(mensagem_ganho.format(resultado,bolso))\n",
        "\n",
        "  elif (dado1==numero_apostado) or (dado2==numero_apostado):\n",
        "    resultado = valor_aposta * 2\n",
        "    bolso = resultado + bolso\n",
        "    print(mensagem_ganho.format(resultado,bolso))\n",
        "  else:\n",
        "      print(\"Você não acertou! Agora tem no bolso {}\".format(bolso))"
      ],
      "execution_count": null,
      "outputs": []
    }
  ]
}